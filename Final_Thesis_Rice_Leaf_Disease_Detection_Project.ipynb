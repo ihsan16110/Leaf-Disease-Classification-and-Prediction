{
  "nbformat": 4,
  "nbformat_minor": 0,
  "metadata": {
    "colab": {
      "provenance": []
    },
    "kernelspec": {
      "name": "python3",
      "display_name": "Python 3"
    },
    "language_info": {
      "name": "python"
    },
    "accelerator": "GPU",
    "gpuClass": "standard"
  },
  "cells": [
    {
      "cell_type": "code",
      "execution_count": null,
      "metadata": {
        "colab": {
          "base_uri": "https://localhost:8080/"
        },
        "id": "sG7ZGVevdzv7",
        "outputId": "dfc09a5e-459b-4372-a475-5bb038b37d4f"
      },
      "outputs": [
        {
          "output_type": "stream",
          "name": "stdout",
          "text": [
            "Mounted at /content/drive\n"
          ]
        }
      ],
      "source": [
        "from google.colab import drive\n",
        "drive.mount('/content/drive')\n"
      ]
    },
    {
      "cell_type": "code",
      "source": [
        "# Install nightly package for some functionalities that aren't in alpha\n",
        "!pip install tf-nightly-gpu-2.0-preview\n",
        "!pip install tf-hub-nightly\n",
        "!pip install tensorflow==2.0.0-alpha\n",
        "\n",
        "# Install TF Hub for TF2\n",
        "!pip install 'tensorflow-hub == 0.5'\n"
      ],
      "metadata": {
        "colab": {
          "base_uri": "https://localhost:8080/"
        },
        "id": "8fMkwVBDeqOf",
        "outputId": "149d5a3d-bddb-4100-997b-4422b3d1303e"
      },
      "execution_count": null,
      "outputs": [
        {
          "output_type": "stream",
          "name": "stdout",
          "text": [
            "Looking in indexes: https://pypi.org/simple, https://us-python.pkg.dev/colab-wheels/public/simple/\n",
            "\u001b[31mERROR: Could not find a version that satisfies the requirement tf-nightly-gpu-2.0-preview (from versions: none)\u001b[0m\u001b[31m\n",
            "\u001b[0m\u001b[31mERROR: No matching distribution found for tf-nightly-gpu-2.0-preview\u001b[0m\u001b[31m\n",
            "\u001b[0mLooking in indexes: https://pypi.org/simple, https://us-python.pkg.dev/colab-wheels/public/simple/\n",
            "Collecting tf-hub-nightly\n",
            "  Downloading tf_hub_nightly-0.14.0.dev202303150711-py2.py3-none-any.whl (100 kB)\n",
            "\u001b[2K     \u001b[90m━━━━━━━━━━━━━━━━━━━━━━━━━━━━━━━━━━━━━━━\u001b[0m \u001b[32m100.8/100.8 KB\u001b[0m \u001b[31m4.0 MB/s\u001b[0m eta \u001b[36m0:00:00\u001b[0m\n",
            "\u001b[?25hRequirement already satisfied: protobuf>=3.19.6 in /usr/local/lib/python3.9/dist-packages (from tf-hub-nightly) (3.19.6)\n",
            "Requirement already satisfied: numpy>=1.12.0 in /usr/local/lib/python3.9/dist-packages (from tf-hub-nightly) (1.22.4)\n",
            "Installing collected packages: tf-hub-nightly\n",
            "Successfully installed tf-hub-nightly-0.14.0.dev202303150711\n",
            "Looking in indexes: https://pypi.org/simple, https://us-python.pkg.dev/colab-wheels/public/simple/\n",
            "\u001b[31mERROR: Could not find a version that satisfies the requirement tensorflow==2.0.0-alpha (from versions: 2.5.0, 2.5.1, 2.5.2, 2.5.3, 2.6.0rc0, 2.6.0rc1, 2.6.0rc2, 2.6.0, 2.6.1, 2.6.2, 2.6.3, 2.6.4, 2.6.5, 2.7.0rc0, 2.7.0rc1, 2.7.0, 2.7.1, 2.7.2, 2.7.3, 2.7.4, 2.8.0rc0, 2.8.0rc1, 2.8.0, 2.8.1, 2.8.2, 2.8.3, 2.8.4, 2.9.0rc0, 2.9.0rc1, 2.9.0rc2, 2.9.0, 2.9.1, 2.9.2, 2.9.3, 2.10.0rc0, 2.10.0rc1, 2.10.0rc2, 2.10.0rc3, 2.10.0, 2.10.1, 2.11.0rc0, 2.11.0rc1, 2.11.0rc2, 2.11.0, 2.12.0rc0, 2.12.0rc1)\u001b[0m\u001b[31m\n",
            "\u001b[0m\u001b[31mERROR: No matching distribution found for tensorflow==2.0.0-alpha\u001b[0m\u001b[31m\n",
            "\u001b[0mLooking in indexes: https://pypi.org/simple, https://us-python.pkg.dev/colab-wheels/public/simple/\n",
            "Collecting tensorflow-hub==0.5\n",
            "  Downloading tensorflow_hub-0.5.0-py2.py3-none-any.whl (78 kB)\n",
            "\u001b[2K     \u001b[90m━━━━━━━━━━━━━━━━━━━━━━━━━━━━━━━━━━━━━━━━\u001b[0m \u001b[32m78.0/78.0 KB\u001b[0m \u001b[31m3.7 MB/s\u001b[0m eta \u001b[36m0:00:00\u001b[0m\n",
            "\u001b[?25hRequirement already satisfied: six>=1.10.0 in /usr/local/lib/python3.9/dist-packages (from tensorflow-hub==0.5) (1.15.0)\n",
            "Requirement already satisfied: numpy>=1.12.0 in /usr/local/lib/python3.9/dist-packages (from tensorflow-hub==0.5) (1.22.4)\n",
            "Requirement already satisfied: protobuf>=3.4.0 in /usr/local/lib/python3.9/dist-packages (from tensorflow-hub==0.5) (3.19.6)\n",
            "Installing collected packages: tensorflow-hub\n",
            "  Attempting uninstall: tensorflow-hub\n",
            "    Found existing installation: tensorflow-hub 0.12.0\n",
            "    Uninstalling tensorflow-hub-0.12.0:\n",
            "      Successfully uninstalled tensorflow-hub-0.12.0\n",
            "Successfully installed tensorflow-hub-0.5.0\n"
          ]
        }
      ]
    },
    {
      "cell_type": "code",
      "source": [
        "from __future__ import absolute_import, division, print_function, unicode_literals\n",
        "\n",
        "\n",
        "import tensorflow as tf\n",
        "#tf.logging.set_verbosity(tf.logging.ERROR)\n",
        "#tf.enable_eager_execution()\n",
        "\n",
        "import tensorflow_hub as hub\n",
        "import os\n",
        "from tensorflow.keras.layers import Dense, Flatten, Conv2D\n",
        "from tensorflow.keras import Model\n",
        "from tensorflow.keras.preprocessing.image import ImageDataGenerator\n",
        "from tensorflow.keras.optimizers import Adam\n",
        "from tensorflow.keras import layers\n",
        "#from keras import optimizers\n"
      ],
      "metadata": {
        "id": "hxHf_wfHeuaI"
      },
      "execution_count": null,
      "outputs": []
    },
    {
      "cell_type": "code",
      "source": [
        "# verify TensorFlow version\n",
        "\n",
        "print(\"Version: \", tf.__version__)\n",
        "print(\"Eager mode: \", tf.executing_eagerly())\n",
        "print(\"Hub version: \", hub.__version__)\n",
        "print(\"GPU is\", \"available\" if tf.test.is_gpu_available() else \"NOT AVAILABLE\")\n"
      ],
      "metadata": {
        "colab": {
          "base_uri": "https://localhost:8080/"
        },
        "id": "_9bAjkDMey08",
        "outputId": "73b9491e-7228-471b-9a2e-ed365f99ae28"
      },
      "execution_count": null,
      "outputs": [
        {
          "output_type": "stream",
          "name": "stderr",
          "text": [
            "WARNING:tensorflow:From <ipython-input-6-2a1459e67cca>:6: is_gpu_available (from tensorflow.python.framework.test_util) is deprecated and will be removed in a future version.\n",
            "Instructions for updating:\n",
            "Use `tf.config.list_physical_devices('GPU')` instead.\n"
          ]
        },
        {
          "output_type": "stream",
          "name": "stdout",
          "text": [
            "Version:  2.11.0\n",
            "Eager mode:  True\n",
            "Hub version:  0.5.0\n",
            "GPU is NOT AVAILABLE\n"
          ]
        }
      ]
    },
    {
      "cell_type": "code",
      "source": [
        "zip_file = tf.keras.utils.get_file(origin='https://github.com/AveyBD/rice-leaf-diseases-detection/raw/master/rice-leaf.zip', \n",
        "                                   fname='rice-leaf.zip', extract=True)\n",
        "!unzip /content/rice-leaf-diseases-detection-master/rice-leaf.zip;"
      ],
      "metadata": {
        "colab": {
          "base_uri": "https://localhost:8080/"
        },
        "id": "JcL2DtO-pG6i",
        "outputId": "724804bf-ddca-4f7a-eb61-e5b5c6ce8a85"
      },
      "execution_count": null,
      "outputs": [
        {
          "output_type": "stream",
          "name": "stdout",
          "text": [
            "Archive:  /content/rice-leaf-diseases-detection-master/rice-leaf.zip\n",
            "  inflating: rice/validation/brownspot/brownspot_rotated_009.jpg  \n",
            "  inflating: rice/validation/brownspot/brownspot_rotated_017.jpg  \n",
            "  inflating: rice/validation/brownspot/brownspot_rotated_007.jpg  \n",
            "  inflating: rice/validation/brownspot/brownspot_rotated_014.jpg  \n",
            "  inflating: rice/validation/brownspot/brownspot_rotated_008.png  \n",
            "  inflating: rice/validation/brownspot/brownspot_rotated_001.jpg  \n",
            "  inflating: rice/train/blast/blast_rotated_042.png  \n",
            "  inflating: rice/validation/brownspot/brownspot_rotated_005.jpg  \n",
            "  inflating: rice/validation/brownspot/brownspot_rotated_003.jpg  \n",
            "  inflating: rice/validation/brownspot/brownspot_rotated_013.jpg  \n",
            "  inflating: rice/validation/brownspot/brownspot_rotated_011.jpg  \n",
            "  inflating: rice/validation/brownspot/brownspot_rotated_010.jpg  \n",
            "  inflating: rice/validation/brownspot/brownspot_rotated_016.jpg  \n",
            "  inflating: rice/train/blast/blast_rotated_046.png  \n",
            "  inflating: rice/validation/brownspot/brownspot_rotated_012.jpg  \n",
            "  inflating: rice/train/blast/blast_rotated_043.JPG  \n",
            "  inflating: rice/train/blast/blast_rotated_049.JPG  \n",
            "  inflating: rice/validation/brownspot/brownspot_rotated_015.jpg  \n",
            "  inflating: rice/validation/brownspot/brownspot_rotated_002.png  \n",
            "  inflating: rice/train/blast/blast_rotated_048.JPG  \n",
            "  inflating: rice/validation/brownspot/brownspot_rotated_006.png  \n",
            "  inflating: rice/train/blast/blast_rotated_044.png  \n",
            "  inflating: rice/train/blast/blast_rotated_045.jpg  \n",
            "  inflating: rice/train/blast/blast_rotated_029.JPG  \n",
            "  inflating: rice/validation/brownspot/brownspot_rotated_004.png  \n",
            "  inflating: rice/validation/blast/blast_rotated_014.png  \n",
            "  inflating: rice/validation/bacterial_leaf_blight/blight_rotated_009.JPG  \n",
            "  inflating: rice/validation/bacterial_leaf_blight/blight_rotated_041.jpg  \n",
            "  inflating: rice/train/bacterial_leaf_blight/blight_rotated_096.jpg  \n",
            "  inflating: rice/validation/bacterial_leaf_blight/blight_rotated_039.jpg  \n",
            "  inflating: rice/validation/blast/blast_rotated_023.jpg  \n",
            "  inflating: rice/train/blast/blast_rotated_047.JPG  \n",
            "  inflating: rice/train/blast/blast_rotated_032.png  \n",
            "  inflating: rice/train/bacterial_leaf_blight/blight_rotated_083.jpg  \n",
            "  inflating: rice/train/bacterial_leaf_blight/blight_rotated_066.JPG  \n",
            "  inflating: rice/train/bacterial_leaf_blight/blight_rotated_046.jpg  \n",
            "  inflating: rice/validation/blast/blast_rotated_011.jpg  \n",
            "  inflating: rice/train/bacterial_leaf_blight/blight_rotated_067.JPG  \n",
            "  inflating: rice/train/bacterial_leaf_blight/blight_rotated_052.jpg  \n",
            "  inflating: rice/validation/blast/blast_rotated_005.jpg  \n",
            "  inflating: rice/train/bacterial_leaf_blight/blight_rotated_095.jpg  \n",
            "  inflating: rice/validation/blast/blast_rotated_006.png  \n",
            "  inflating: rice/train/bacterial_leaf_blight/blight_rotated_082.jpg  \n",
            "  inflating: rice/validation/bacterial_leaf_blight/blight_rotated_019.jpg  \n",
            "  inflating: rice/validation/bacterial_leaf_blight/blight_rotated_008.PNG  \n",
            "  inflating: rice/validation/blast/blast_rotated_009.jpg  \n",
            "  inflating: rice/validation/bacterial_leaf_blight/blight_rotated_031.jpg  \n",
            "  inflating: rice/validation/blast/blast_rotated_010.png  \n",
            "  inflating: rice/train/brownspot/brownspot_rotated_065.jpg  \n",
            "  inflating: rice/train/bacterial_leaf_blight/blight_rotated_065.JPG  \n",
            "  inflating: rice/validation/blast/blast_rotated_024.png  \n",
            "  inflating: rice/train/bacterial_leaf_blight/blight_rotated_091.jpg  \n",
            "  inflating: rice/train/bacterial_leaf_blight/blight_rotated_073.JPG  \n",
            "  inflating: rice/train/brownspot/brownspot_rotated_074.jpg  \n",
            "  inflating: rice/train/brownspot/brownspot_rotated_056.jpg  \n",
            "  inflating: rice/validation/blast/blast_rotated_003.jpg  \n",
            "  inflating: rice/validation/bacterial_leaf_blight/blight_rotated_005.jpg  \n",
            "  inflating: rice/train/blast/blast_rotated_035.JPG  \n",
            "  inflating: rice/validation/bacterial_leaf_blight/blight_rotated_043.jpg  \n",
            "  inflating: rice/train/brownspot/brownspot_rotated_053.jpg  \n",
            "  inflating: rice/train/bacterial_leaf_blight/blight_rotated_077.jpg  \n",
            "  inflating: rice/validation/bacterial_leaf_blight/blight_rotated_033.jpg  \n",
            "  inflating: rice/validation/blast/blast_rotated_004.png  \n",
            "  inflating: rice/train/brownspot/brownspot_rotated_090.jpg  \n",
            "  inflating: rice/train/brownspot/brownspot_rotated_093.jpg  \n",
            "  inflating: rice/train/brownspot/brownspot_rotated_026.jpg  \n",
            "  inflating: rice/train/brownspot/brownspot_rotated_047.jpg  \n",
            "  inflating: rice/train/brownspot/brownspot_rotated_076.jpg  \n",
            "  inflating: rice/train/bacterial_leaf_blight/blight_rotated_058.jpg  \n",
            "  inflating: rice/train/brownspot/brownspot_rotated_089.jpg  \n",
            "  inflating: rice/train/blast/blast_rotated_030.png  \n",
            "  inflating: rice/train/bacterial_leaf_blight/blight_rotated_070.JPG  \n",
            "  inflating: rice/train/brownspot/brownspot_rotated_081.jpg  \n",
            "  inflating: rice/train/brownspot/brownspot_rotated_055.jpg  \n",
            "  inflating: rice/validation/bacterial_leaf_blight/blight_rotated_026.PNG  \n",
            "  inflating: rice/validation/bacterial_leaf_blight/blight_rotated_025.jpg  \n",
            "  inflating: rice/validation/blast/blast_rotated_017.jpg  \n",
            "  inflating: rice/validation/blast/blast_rotated_015.jpg  \n",
            "  inflating: rice/train/bacterial_leaf_blight/blight_rotated_085.jpg  \n",
            "  inflating: rice/validation/blast/blast_rotated_020.png  \n",
            "  inflating: rice/train/bacterial_leaf_blight/blight_rotated_045.jpg  \n",
            "  inflating: rice/validation/bacterial_leaf_blight/blight_rotated_002.png  \n",
            "  inflating: rice/train/bacterial_leaf_blight/blight_rotated_071.JPG  \n",
            "  inflating: rice/validation/bacterial_leaf_blight/blight_rotated_016.png  \n",
            "  inflating: rice/train/bacterial_leaf_blight/blight_rotated_063.JPG  \n",
            "  inflating: rice/validation/bacterial_leaf_blight/blight_rotated_023.jpg  \n",
            "  inflating: rice/train/blast/blast_rotated_036.png  \n",
            "  inflating: rice/validation/bacterial_leaf_blight/blight_rotated_021.jpg  \n",
            "  inflating: rice/validation/bacterial_leaf_blight/blight_rotated_029.jpg  \n",
            "  inflating: rice/train/brownspot/brownspot_rotated_035.jpg  \n",
            "  inflating: rice/train/brownspot/brownspot_rotated_036.jpg  \n",
            "  inflating: rice/validation/blast/blast_rotated_019.jpg  \n",
            "  inflating: rice/validation/blast/blast_rotated_008.png  \n",
            "  inflating: rice/train/bacterial_leaf_blight/blight_rotated_072.JPG  \n",
            "  inflating: rice/validation/bacterial_leaf_blight/blight_rotated_042.jpg  \n",
            "  inflating: rice/validation/bacterial_leaf_blight/blight_rotated_007.jpg  \n",
            "  inflating: rice/validation/bacterial_leaf_blight/blight_rotated_018.png  \n",
            "  inflating: rice/train/brownspot/brownspot_rotated_063.jpg  \n",
            "  inflating: rice/train/brownspot/brownspot_rotated_070.jpg  \n",
            "  inflating: rice/train/bacterial_leaf_blight/blight_rotated_056.jpg  \n",
            "  inflating: rice/validation/bacterial_leaf_blight/blight_rotated_028.PNG  \n",
            "  inflating: rice/train/brownspot/brownspot_rotated_024.jpg  \n",
            "  inflating: rice/train/bacterial_leaf_blight/blight_rotated_049.jpg  \n",
            "  inflating: rice/validation/bacterial_leaf_blight/blight_rotated_011.JPG  \n",
            "  inflating: rice/train/brownspot/brownspot_rotated_077.jpg  \n",
            "  inflating: rice/train/bacterial_leaf_blight/blight_rotated_087.jpg  \n",
            "  inflating: rice/train/brownspot/brownspot_rotated_052.jpg  \n",
            "  inflating: rice/validation/bacterial_leaf_blight/blight_rotated_022.PNG  \n",
            "  inflating: rice/train/bacterial_leaf_blight/blight_rotated_093.jpg  \n",
            "  inflating: rice/train/brownspot/brownspot_rotated_073.jpg  \n",
            "  inflating: rice/train/bacterial_leaf_blight/blight_rotated_055.jpg  \n",
            "  inflating: rice/validation/bacterial_leaf_blight/blight_rotated_014.png  \n",
            "  inflating: rice/train/brownspot/brownspot_rotated_033.jpg  \n",
            "  inflating: rice/validation/blast/blast_rotated_021.jpg  \n",
            "  inflating: rice/train/brownspot/brownspot_rotated_066.jpg  \n",
            "  inflating: rice/validation/bacterial_leaf_blight/blight_rotated_040.jpg  \n",
            "  inflating: rice/train/bacterial_leaf_blight/blight_rotated_048.jpg  \n",
            "  inflating: rice/train/bacterial_leaf_blight/blight_rotated_078.jpg  \n",
            "  inflating: rice/validation/blast/blast_rotated_002.png  \n",
            "  inflating: rice/validation/bacterial_leaf_blight/blight_rotated_013.jpg  \n",
            "  inflating: rice/train/brownspot/brownspot_rotated_088.jpg  \n",
            "  inflating: rice/train/brownspot/brownspot_rotated_084.jpg  \n",
            "  inflating: rice/train/brownspot/brownspot_rotated_020.jpg  \n",
            "  inflating: rice/train/brownspot/brownspot_rotated_023.jpg  \n",
            "  inflating: rice/train/brownspot/brownspot_rotated_092.jpg  \n",
            "  inflating: rice/train/bacterial_leaf_blight/blight_rotated_080.jpg  \n",
            "  inflating: rice/train/brownspot/brownspot_rotated_062.jpg  \n",
            "  inflating: rice/train/brownspot/brownspot_rotated_028.jpg  \n",
            "  inflating: rice/train/brownspot/brownspot_rotated_050.jpg  \n",
            "  inflating: rice/train/brownspot/brownspot_rotated_095.jpg  \n",
            "  inflating: rice/train/bacterial_leaf_blight/blight_rotated_075.JPG  \n",
            "  inflating: rice/train/blast/blast_rotated_038.png  \n",
            "  inflating: rice/train/brownspot/brownspot_rotated_072.jpg  \n",
            "  inflating: rice/train/blast/blast_rotated_037.JPG  \n",
            "  inflating: rice/validation/bacterial_leaf_blight/blight_rotated_006.PNG  \n",
            "  inflating: rice/train/brownspot/brownspot_rotated_021.jpg  \n",
            "  inflating: rice/train/bacterial_leaf_blight/blight_rotated_092.jpg  \n",
            "  inflating: rice/train/bacterial_leaf_blight/blight_rotated_061.JPG  \n",
            "  inflating: rice/validation/bacterial_leaf_blight/blight_rotated_020.PNG  \n",
            "  inflating: rice/validation/bacterial_leaf_blight/blight_rotated_027.jpg  \n",
            "  inflating: rice/train/bacterial_leaf_blight/blight_rotated_053.jpg  \n",
            "  inflating: rice/validation/blast/blast_rotated_013.jpg  \n",
            "  inflating: rice/train/brownspot/brownspot_rotated_025.jpg  \n",
            "  inflating: rice/train/bacterial_leaf_blight/blight_rotated_086.jpg  \n",
            "  inflating: rice/validation/bacterial_leaf_blight/blight_rotated_003.jpg  \n",
            "  inflating: rice/train/brownspot/brownspot_rotated_038.jpg  \n",
            "  inflating: rice/train/blast/blast_rotated_028.png  \n",
            "  inflating: rice/train/brownspot/brownspot_rotated_018.jpg  \n",
            "  inflating: rice/validation/bacterial_leaf_blight/blight_rotated_001.jpg  \n",
            "  inflating: rice/train/brownspot/brownspot_rotated_091.jpg  \n",
            "  inflating: rice/train/blast/blast_rotated_041.JPG  \n",
            "  inflating: rice/train/blast/blast_rotated_027.jpg  \n",
            "  inflating: rice/validation/blast/blast_rotated_007.jpg  \n",
            "  inflating: rice/validation/blast/blast_rotated_001.jpg  \n",
            "  inflating: rice/train/brownspot/brownspot_rotated_030.jpg  \n",
            "  inflating: rice/train/bacterial_leaf_blight/blight_rotated_051.jpg  \n",
            "  inflating: rice/train/bacterial_leaf_blight/blight_rotated_064.JPG  \n",
            "  inflating: rice/validation/bacterial_leaf_blight/blight_rotated_036.JPG  \n",
            "  inflating: rice/validation/blast/blast_rotated_016.png  \n",
            "  inflating: rice/train/brownspot/brownspot_rotated_031.jpg  \n",
            "  inflating: rice/train/bacterial_leaf_blight/blight_rotated_069.JPG  \n",
            "  inflating: rice/train/bacterial_leaf_blight/blight_rotated_062.JPG  \n",
            "  inflating: rice/train/bacterial_leaf_blight/blight_rotated_044.jpg  \n",
            "  inflating: rice/train/brownspot/brownspot_rotated_069.jpg  \n",
            "  inflating: rice/train/brownspot/brownspot_rotated_045.jpg  \n",
            "  inflating: rice/train/brownspot/brownspot_rotated_087.jpg  \n",
            "  inflating: rice/train/bacterial_leaf_blight/blight_rotated_084.jpg  \n",
            "  inflating: rice/train/brownspot/brownspot_rotated_094.jpg  \n",
            "  inflating: rice/train/brownspot/brownspot_rotated_046.jpg  \n",
            "  inflating: rice/train/brownspot/brownspot_rotated_027.jpg  \n",
            "  inflating: rice/train/brownspot/brownspot_rotated_085.jpg  \n",
            "  inflating: rice/train/brownspot/brownspot_rotated_064.jpg  \n",
            "  inflating: rice/train/brownspot/brownspot_rotated_039.jpg  \n",
            "  inflating: rice/train/brownspot/brownspot_rotated_037.jpg  \n",
            "  inflating: rice/train/bacterial_leaf_blight/blight_rotated_057.jpg  \n",
            "  inflating: rice/train/brownspot/brownspot_rotated_080.jpg  \n",
            "  inflating: rice/train/blast/blast_rotated_033.JPG  \n",
            "  inflating: rice/train/blast/blast_rotated_026.png  \n",
            "  inflating: rice/train/brownspot/brownspot_rotated_022.jpg  \n",
            "  inflating: rice/validation/bacterial_leaf_blight/blight_rotated_004.PNG  \n",
            "  inflating: rice/validation/bacterial_leaf_blight/blight_rotated_035.JPG  \n",
            "  inflating: rice/validation/bacterial_leaf_blight/blight_rotated_030.jpg  \n",
            "  inflating: rice/train/bacterial_leaf_blight/blight_rotated_090.jpg  \n",
            "  inflating: rice/train/brownspot/brownspot_rotated_071.jpg  \n",
            "  inflating: rice/validation/bacterial_leaf_blight/blight_rotated_015.jpg  \n",
            "  inflating: rice/train/bacterial_leaf_blight/blight_rotated_076.jpg  \n",
            "  inflating: rice/train/brownspot/brownspot_rotated_049.jpg  \n",
            "  inflating: rice/train/bacterial_leaf_blight/blight_rotated_059.jpg  \n",
            "  inflating: rice/validation/bacterial_leaf_blight/blight_rotated_038.JPG  \n",
            "  inflating: rice/train/bacterial_leaf_blight/blight_rotated_094.jpg  \n",
            "  inflating: rice/train/blast/blast_rotated_040.png  \n",
            "  inflating: rice/train/brownspot/brownspot_rotated_079.jpg  \n",
            "  inflating: rice/train/bacterial_leaf_blight/blight_rotated_050.jpg  \n",
            "  inflating: rice/train/bacterial_leaf_blight/blight_rotated_060.JPG  \n",
            "  inflating: rice/train/brownspot/brownspot_rotated_054.jpg  \n",
            "  inflating: rice/train/brownspot/brownspot_rotated_059.jpg  \n",
            "  inflating: rice/train/brownspot/brownspot_rotated_043.jpg  \n",
            "  inflating: rice/train/brownspot/brownspot_rotated_082.jpg  \n",
            "  inflating: rice/train/bacterial_leaf_blight/blight_rotated_088.jpg  \n",
            "  inflating: rice/validation/bacterial_leaf_blight/blight_rotated_032.jpg  \n",
            "  inflating: rice/train/brownspot/brownspot_rotated_061.jpg  \n",
            "  inflating: rice/train/brownspot/brownspot_rotated_040.jpg  \n",
            "  inflating: rice/train/brownspot/brownspot_rotated_029.jpg  \n",
            "  inflating: rice/train/brownspot/brownspot_rotated_086.jpg  \n",
            "  inflating: rice/validation/bacterial_leaf_blight/blight_rotated_012.png  \n",
            "  inflating: rice/train/blast/blast_rotated_025.jpg  \n",
            "  inflating: rice/train/brownspot/brownspot_rotated_068.jpg  \n",
            "  inflating: rice/train/bacterial_leaf_blight/blight_rotated_089.jpg  \n",
            "  inflating: rice/train/brownspot/brownspot_rotated_058.jpg  \n",
            "  inflating: rice/validation/bacterial_leaf_blight/blight_rotated_017.jpg  \n",
            "  inflating: rice/train/bacterial_leaf_blight/blight_rotated_074.JPG  \n",
            "  inflating: rice/train/brownspot/brownspot_rotated_044.jpg  \n",
            "  inflating: rice/validation/blast/blast_rotated_012.png  \n",
            "  inflating: rice/train/brownspot/brownspot_rotated_041.jpg  \n",
            "  inflating: rice/train/brownspot/brownspot_rotated_032.jpg  \n",
            "  inflating: rice/train/brownspot/brownspot_rotated_067.jpg  \n",
            "  inflating: rice/train/brownspot/brownspot_rotated_078.jpg  \n",
            "  inflating: rice/train/brownspot/brownspot_rotated_060.jpg  \n",
            "  inflating: rice/train/brownspot/brownspot_rotated_075.jpg  \n",
            "  inflating: rice/train/blast/blast_rotated_031.JPG  \n",
            "  inflating: rice/train/brownspot/brownspot_rotated_051.jpg  \n",
            "  inflating: rice/train/bacterial_leaf_blight/blight_rotated_079.jpg  \n",
            "  inflating: rice/train/bacterial_leaf_blight/blight_rotated_068.JPG  \n",
            "  inflating: rice/train/blast/blast_rotated_039.JPG  \n",
            "  inflating: rice/validation/bacterial_leaf_blight/blight_rotated_010.PNG  \n",
            "  inflating: rice/train/bacterial_leaf_blight/blight_rotated_081.jpg  \n",
            "  inflating: rice/train/bacterial_leaf_blight/blight_rotated_047.jpg  \n",
            "  inflating: rice/train/brownspot/brownspot_rotated_034.jpg  \n",
            "  inflating: rice/validation/bacterial_leaf_blight/blight_rotated_034.jpg  \n",
            "  inflating: rice/train/bacterial_leaf_blight/blight_rotated_054.jpg  \n",
            "  inflating: rice/train/brownspot/brownspot_rotated_042.jpg  \n",
            "  inflating: rice/train/blast/blast_rotated_034.png  \n",
            "  inflating: rice/train/brownspot/brownspot_rotated_057.jpg  \n",
            "  inflating: rice/train/brownspot/brownspot_rotated_083.jpg  \n",
            "  inflating: rice/validation/blast/blast_rotated_022.png  \n",
            "  inflating: rice/train/brownspot/brownspot_rotated_048.jpg  \n",
            "  inflating: rice/train/brownspot/brownspot_rotated_019.jpg  \n",
            "  inflating: rice/validation/blast/blast_rotated_018.png  \n",
            "  inflating: rice/validation/bacterial_leaf_blight/blight_rotated_037.JPG  \n",
            "  inflating: rice/train/brownspot/brownspot_rotated_096.jpg  \n",
            "  inflating: rice/validation/bacterial_leaf_blight/blight_rotated_024.PNG  \n"
          ]
        }
      ]
    },
    {
      "cell_type": "code",
      "source": [
        "\n",
        "data_dir = os.path.join(os.path.dirname(zip_file), '/content/rice')\n",
        "train_dir = os.path.join(data_dir, 'train')\n",
        "validation_dir = os.path.join(data_dir, 'validation')\n"
      ],
      "metadata": {
        "id": "QVBoy4CBe2mX"
      },
      "execution_count": null,
      "outputs": []
    },
    {
      "cell_type": "code",
      "source": [
        "\n",
        "import time\n",
        "import os\n",
        "from os.path import exists\n",
        "\n",
        "def count(dir, counter=0):\n",
        "    \"returns number of files in dir and subdirs\"\n",
        "    for pack in os.walk(dir):\n",
        "        for f in pack[2]:\n",
        "            counter += 1\n",
        "    return dir + \" : \" + str(counter) + \"files\""
      ],
      "metadata": {
        "id": "dvk02W8sfMR6"
      },
      "execution_count": null,
      "outputs": []
    },
    {
      "cell_type": "code",
      "source": [
        "\n",
        "print('total images for training :', count(train_dir))\n",
        "print('total images for validation :', count(validation_dir))"
      ],
      "metadata": {
        "colab": {
          "base_uri": "https://localhost:8080/"
        },
        "id": "JbLCNWRYfOCF",
        "outputId": "8ccce29c-4224-4949-971f-45ec80116f25"
      },
      "execution_count": null,
      "outputs": [
        {
          "output_type": "stream",
          "name": "stdout",
          "text": [
            "total images for training : /content/rice/train : 157files\n",
            "total images for validation : /content/rice/validation : 84files\n"
          ]
        }
      ]
    },
    {
      "cell_type": "code",
      "source": [
        "!!wget https://github.com/AveyBD/rice-leaf-diseases-detection/archive/master.zip\n",
        "!unzip master.zip;"
      ],
      "metadata": {
        "colab": {
          "base_uri": "https://localhost:8080/"
        },
        "id": "-yUHD7YQp4Qj",
        "outputId": "2b8fe194-b4bc-4307-95c7-4cd1d7626bf7"
      },
      "execution_count": null,
      "outputs": [
        {
          "output_type": "stream",
          "name": "stdout",
          "text": [
            "Archive:  master.zip\n",
            "e56f0a072757582b0c8e6db762a720860b8da342\n",
            "   creating: rice-leaf-diseases-detection-master/\n",
            "  inflating: rice-leaf-diseases-detection-master/README.md  \n",
            "  inflating: rice-leaf-diseases-detection-master/Rice_Leaf_Detection.ipynb  \n",
            "  inflating: rice-leaf-diseases-detection-master/Rice_Leaf_Detection_Colab.ipynb  \n",
            "  inflating: rice-leaf-diseases-detection-master/classes.json  \n",
            "  inflating: rice-leaf-diseases-detection-master/rice-leaf.zip  \n"
          ]
        }
      ]
    },
    {
      "cell_type": "code",
      "source": [
        "import json\n",
        "\n",
        "with open('rice-leaf-diseases-detection-master/classes.json', 'r') as f:\n",
        "    cat_to_name = json.load(f)\n",
        "    classes = list(cat_to_name.values())\n",
        "    \n",
        "print (classes)"
      ],
      "metadata": {
        "colab": {
          "base_uri": "https://localhost:8080/"
        },
        "id": "AwDbquhvfdNQ",
        "outputId": "6611dd1b-d6a8-42b2-ecf7-51ccee709db4"
      },
      "execution_count": null,
      "outputs": [
        {
          "output_type": "stream",
          "name": "stdout",
          "text": [
            "['Bacterial_leaf_blight', 'blast', 'brownspot']\n"
          ]
        }
      ]
    },
    {
      "cell_type": "code",
      "source": [
        "print('Number of classes:',len(classes))"
      ],
      "metadata": {
        "colab": {
          "base_uri": "https://localhost:8080/"
        },
        "id": "X4ne35g-p_Jj",
        "outputId": "9b2a5110-6c0d-48d7-b15b-fb2b2c854416"
      },
      "execution_count": null,
      "outputs": [
        {
          "output_type": "stream",
          "name": "stdout",
          "text": [
            "Number of classes: 3\n"
          ]
        }
      ]
    },
    {
      "cell_type": "code",
      "source": [
        "module_selection = (\"inception_v3\", 299, 2048) #@param [\"(\\\"mobilenet_v2\\\", 224, 1280)\", \"(\\\"inception_v3\\\", 299, 2048)\"] {type:\"raw\", allow-input: true}\n",
        "handle_base, pixels, FV_SIZE = module_selection\n",
        "MODULE_HANDLE =\"https://tfhub.dev/google/tf2-preview/{}/feature_vector/2\".format(handle_base)\n",
        "IMAGE_SIZE = (pixels, pixels)\n",
        "print(\"Using {} with input size {} and output dimension {}\".format(\n",
        "  MODULE_HANDLE, IMAGE_SIZE, FV_SIZE))\n",
        "\n",
        "BATCH_SIZE = 64 #@param {type:\"integer\"}"
      ],
      "metadata": {
        "colab": {
          "base_uri": "https://localhost:8080/"
        },
        "id": "ht4FhoeZqVBi",
        "outputId": "9039e412-c040-4ee4-cbcf-f1367c3d8859"
      },
      "execution_count": null,
      "outputs": [
        {
          "output_type": "stream",
          "name": "stdout",
          "text": [
            "Using https://tfhub.dev/google/tf2-preview/inception_v3/feature_vector/2 with input size (299, 299) and output dimension 2048\n"
          ]
        }
      ]
    },
    {
      "cell_type": "code",
      "source": [
        "# Inputs are suitably resized for the selected module. Dataset augmentation (i.e., random distortions of an image each time it is read) improves training, esp. when fine-tuning.\n",
        "\n",
        "validation_datagen = tf.keras.preprocessing.image.ImageDataGenerator(rescale=1./255)\n",
        "validation_generator = validation_datagen.flow_from_directory(\n",
        "    validation_dir, \n",
        "    shuffle=False, \n",
        "    seed=42,\n",
        "    color_mode=\"rgb\", \n",
        "    class_mode=\"categorical\",\n",
        "    target_size=IMAGE_SIZE,\n",
        "    batch_size=BATCH_SIZE)\n",
        "\n",
        "do_data_augmentation = 0 #@param {type:\"integer\"}\n",
        "if do_data_augmentation:\n",
        "  train_datagen = tf.keras.preprocessing.image.ImageDataGenerator(\n",
        "      rescale = 1./255,\n",
        "      rotation_range=40,\n",
        "      horizontal_flip=True,\n",
        "      width_shift_range=0.2, \n",
        "      height_shift_range=0.2,\n",
        "      shear_range=0.2, \n",
        "      zoom_range=0.2,\n",
        "      fill_mode='nearest' )\n",
        "else:\n",
        "  train_datagen = validation_datagen\n",
        "  \n",
        "train_generator = train_datagen.flow_from_directory(\n",
        "    train_dir, \n",
        "    subset=\"training\", \n",
        "    shuffle=True, \n",
        "    seed=42,\n",
        "    color_mode=\"rgb\", \n",
        "    class_mode=\"categorical\",\n",
        "    target_size=IMAGE_SIZE,\n",
        "    batch_size=BATCH_SIZE)\n"
      ],
      "metadata": {
        "colab": {
          "base_uri": "https://localhost:8080/"
        },
        "id": "prdHy85iqdJE",
        "outputId": "1caa0389-c79f-4bbd-9be7-b5957fb89ed9"
      },
      "execution_count": null,
      "outputs": [
        {
          "output_type": "stream",
          "name": "stdout",
          "text": [
            "Found 84 images belonging to 3 classes.\n",
            "Found 157 images belonging to 3 classes.\n"
          ]
        }
      ]
    },
    {
      "cell_type": "code",
      "source": [
        "pip install \"tf-nightly\""
      ],
      "metadata": {
        "colab": {
          "base_uri": "https://localhost:8080/"
        },
        "id": "XVsJ6Ar3zF7K",
        "outputId": "08849738-5355-45a0-e48f-27a18ebb3bfe"
      },
      "execution_count": null,
      "outputs": [
        {
          "output_type": "stream",
          "name": "stdout",
          "text": [
            "Looking in indexes: https://pypi.org/simple, https://us-python.pkg.dev/colab-wheels/public/simple/\n",
            "Collecting tf-nightly\n",
            "  Downloading tf_nightly-2.13.0.dev20230315-cp39-cp39-manylinux_2_17_x86_64.manylinux2014_x86_64.whl (596.4 MB)\n",
            "\u001b[2K     \u001b[90m━━━━━━━━━━━━━━━━━━━━━━━━━━━━━━━━━━━━━━━\u001b[0m \u001b[32m596.4/596.4 MB\u001b[0m \u001b[31m2.2 MB/s\u001b[0m eta \u001b[36m0:00:00\u001b[0m\n",
            "\u001b[?25hRequirement already satisfied: typing-extensions>=3.6.6 in /usr/local/lib/python3.9/dist-packages (from tf-nightly) (4.5.0)\n",
            "Requirement already satisfied: jax>=0.3.15 in /usr/local/lib/python3.9/dist-packages (from tf-nightly) (0.4.4)\n",
            "Collecting protobuf!=4.21.0,!=4.21.1,!=4.21.2,!=4.21.3,!=4.21.4,!=4.21.5,<5.0.0dev,>=3.20.3\n",
            "  Downloading protobuf-4.22.1-cp37-abi3-manylinux2014_x86_64.whl (302 kB)\n",
            "\u001b[2K     \u001b[90m━━━━━━━━━━━━━━━━━━━━━━━━━━━━━━━━━━━━━━\u001b[0m \u001b[32m302.4/302.4 KB\u001b[0m \u001b[31m31.1 MB/s\u001b[0m eta \u001b[36m0:00:00\u001b[0m\n",
            "\u001b[?25hRequirement already satisfied: gast<=0.4.0,>=0.2.1 in /usr/local/lib/python3.9/dist-packages (from tf-nightly) (0.4.0)\n",
            "Requirement already satisfied: absl-py>=1.0.0 in /usr/local/lib/python3.9/dist-packages (from tf-nightly) (1.4.0)\n",
            "Requirement already satisfied: setuptools in /usr/local/lib/python3.9/dist-packages (from tf-nightly) (63.4.3)\n",
            "Requirement already satisfied: numpy<1.24,>=1.22 in /usr/local/lib/python3.9/dist-packages (from tf-nightly) (1.22.4)\n",
            "Requirement already satisfied: tensorflow-io-gcs-filesystem>=0.23.1 in /usr/local/lib/python3.9/dist-packages (from tf-nightly) (0.31.0)\n",
            "Requirement already satisfied: opt-einsum>=2.3.2 in /usr/local/lib/python3.9/dist-packages (from tf-nightly) (3.3.0)\n",
            "Collecting keras-nightly~=2.13.0.dev\n",
            "  Downloading keras_nightly-2.13.0.dev2023031507-py2.py3-none-any.whl (1.8 MB)\n",
            "\u001b[2K     \u001b[90m━━━━━━━━━━━━━━━━━━━━━━━━━━━━━━━━━━━━━━━━\u001b[0m \u001b[32m1.8/1.8 MB\u001b[0m \u001b[31m72.9 MB/s\u001b[0m eta \u001b[36m0:00:00\u001b[0m\n",
            "\u001b[?25hRequirement already satisfied: google-pasta>=0.1.1 in /usr/local/lib/python3.9/dist-packages (from tf-nightly) (0.2.0)\n",
            "Requirement already satisfied: packaging in /usr/local/lib/python3.9/dist-packages (from tf-nightly) (23.0)\n",
            "Requirement already satisfied: termcolor>=1.1.0 in /usr/local/lib/python3.9/dist-packages (from tf-nightly) (2.2.0)\n",
            "Collecting tf-estimator-nightly~=2.13.0.dev\n",
            "  Downloading tf_estimator_nightly-2.13.0.dev2023031508-py2.py3-none-any.whl (440 kB)\n",
            "\u001b[2K     \u001b[90m━━━━━━━━━━━━━━━━━━━━━━━━━━━━━━━━━━━━━━\u001b[0m \u001b[32m440.9/440.9 KB\u001b[0m \u001b[31m40.5 MB/s\u001b[0m eta \u001b[36m0:00:00\u001b[0m\n",
            "\u001b[?25hRequirement already satisfied: libclang>=13.0.0 in /usr/local/lib/python3.9/dist-packages (from tf-nightly) (15.0.6.1)\n",
            "Collecting tb-nightly~=2.13.0.a\n",
            "  Downloading tb_nightly-2.13.0a20230314-py3-none-any.whl (5.6 MB)\n",
            "\u001b[2K     \u001b[90m━━━━━━━━━━━━━━━━━━━━━━━━━━━━━━━━━━━━━━━━\u001b[0m \u001b[32m5.6/5.6 MB\u001b[0m \u001b[31m85.8 MB/s\u001b[0m eta \u001b[36m0:00:00\u001b[0m\n",
            "\u001b[?25hRequirement already satisfied: astunparse>=1.6.0 in /usr/local/lib/python3.9/dist-packages (from tf-nightly) (1.6.3)\n",
            "Requirement already satisfied: h5py>=2.9.0 in /usr/local/lib/python3.9/dist-packages (from tf-nightly) (3.1.0)\n",
            "Requirement already satisfied: grpcio<2.0,>=1.24.3 in /usr/local/lib/python3.9/dist-packages (from tf-nightly) (1.51.3)\n",
            "Collecting wrapt<1.15,>=1.11.0\n",
            "  Downloading wrapt-1.14.1-cp39-cp39-manylinux_2_5_x86_64.manylinux1_x86_64.manylinux_2_17_x86_64.manylinux2014_x86_64.whl (77 kB)\n",
            "\u001b[2K     \u001b[90m━━━━━━━━━━━━━━━━━━━━━━━━━━━━━━━━━━━━━━━━\u001b[0m \u001b[32m77.8/77.8 KB\u001b[0m \u001b[31m9.0 MB/s\u001b[0m eta \u001b[36m0:00:00\u001b[0m\n",
            "\u001b[?25hRequirement already satisfied: flatbuffers>=2.0 in /usr/local/lib/python3.9/dist-packages (from tf-nightly) (23.3.3)\n",
            "Requirement already satisfied: six>=1.12.0 in /usr/local/lib/python3.9/dist-packages (from tf-nightly) (1.15.0)\n",
            "Requirement already satisfied: wheel<1.0,>=0.23.0 in /usr/local/lib/python3.9/dist-packages (from astunparse>=1.6.0->tf-nightly) (0.38.4)\n",
            "Requirement already satisfied: scipy>=1.5 in /usr/local/lib/python3.9/dist-packages (from jax>=0.3.15->tf-nightly) (1.10.1)\n",
            "Requirement already satisfied: markdown>=2.6.8 in /usr/local/lib/python3.9/dist-packages (from tb-nightly~=2.13.0.a->tf-nightly) (3.4.1)\n",
            "Requirement already satisfied: google-auth-oauthlib<0.5,>=0.4.1 in /usr/local/lib/python3.9/dist-packages (from tb-nightly~=2.13.0.a->tf-nightly) (0.4.6)\n",
            "Requirement already satisfied: requests<3,>=2.21.0 in /usr/local/lib/python3.9/dist-packages (from tb-nightly~=2.13.0.a->tf-nightly) (2.25.1)\n",
            "Requirement already satisfied: google-auth<3,>=1.6.3 in /usr/local/lib/python3.9/dist-packages (from tb-nightly~=2.13.0.a->tf-nightly) (2.16.2)\n",
            "Collecting tensorboard-data-server<0.8.0,>=0.7.0\n",
            "  Downloading tensorboard_data_server-0.7.0-py3-none-manylinux2014_x86_64.whl (6.6 MB)\n",
            "\u001b[2K     \u001b[90m━━━━━━━━━━━━━━━━━━━━━━━━━━━━━━━━━━━━━━━━\u001b[0m \u001b[32m6.6/6.6 MB\u001b[0m \u001b[31m85.5 MB/s\u001b[0m eta \u001b[36m0:00:00\u001b[0m\n",
            "\u001b[?25hRequirement already satisfied: tensorboard-plugin-wit>=1.6.0 in /usr/local/lib/python3.9/dist-packages (from tb-nightly~=2.13.0.a->tf-nightly) (1.8.1)\n",
            "Requirement already satisfied: werkzeug>=1.0.1 in /usr/local/lib/python3.9/dist-packages (from tb-nightly~=2.13.0.a->tf-nightly) (2.2.3)\n",
            "Requirement already satisfied: cachetools<6.0,>=2.0.0 in /usr/local/lib/python3.9/dist-packages (from google-auth<3,>=1.6.3->tb-nightly~=2.13.0.a->tf-nightly) (5.3.0)\n",
            "Requirement already satisfied: rsa<5,>=3.1.4 in /usr/local/lib/python3.9/dist-packages (from google-auth<3,>=1.6.3->tb-nightly~=2.13.0.a->tf-nightly) (4.9)\n",
            "Requirement already satisfied: pyasn1-modules>=0.2.1 in /usr/local/lib/python3.9/dist-packages (from google-auth<3,>=1.6.3->tb-nightly~=2.13.0.a->tf-nightly) (0.2.8)\n",
            "Requirement already satisfied: requests-oauthlib>=0.7.0 in /usr/local/lib/python3.9/dist-packages (from google-auth-oauthlib<0.5,>=0.4.1->tb-nightly~=2.13.0.a->tf-nightly) (1.3.1)\n",
            "Requirement already satisfied: importlib-metadata>=4.4 in /usr/local/lib/python3.9/dist-packages (from markdown>=2.6.8->tb-nightly~=2.13.0.a->tf-nightly) (6.0.0)\n",
            "Requirement already satisfied: certifi>=2017.4.17 in /usr/local/lib/python3.9/dist-packages (from requests<3,>=2.21.0->tb-nightly~=2.13.0.a->tf-nightly) (2022.12.7)\n",
            "Requirement already satisfied: chardet<5,>=3.0.2 in /usr/local/lib/python3.9/dist-packages (from requests<3,>=2.21.0->tb-nightly~=2.13.0.a->tf-nightly) (4.0.0)\n",
            "Requirement already satisfied: idna<3,>=2.5 in /usr/local/lib/python3.9/dist-packages (from requests<3,>=2.21.0->tb-nightly~=2.13.0.a->tf-nightly) (2.10)\n",
            "Requirement already satisfied: urllib3<1.27,>=1.21.1 in /usr/local/lib/python3.9/dist-packages (from requests<3,>=2.21.0->tb-nightly~=2.13.0.a->tf-nightly) (1.26.15)\n",
            "Requirement already satisfied: MarkupSafe>=2.1.1 in /usr/local/lib/python3.9/dist-packages (from werkzeug>=1.0.1->tb-nightly~=2.13.0.a->tf-nightly) (2.1.2)\n",
            "Requirement already satisfied: zipp>=0.5 in /usr/local/lib/python3.9/dist-packages (from importlib-metadata>=4.4->markdown>=2.6.8->tb-nightly~=2.13.0.a->tf-nightly) (3.15.0)\n",
            "Requirement already satisfied: pyasn1<0.5.0,>=0.4.6 in /usr/local/lib/python3.9/dist-packages (from pyasn1-modules>=0.2.1->google-auth<3,>=1.6.3->tb-nightly~=2.13.0.a->tf-nightly) (0.4.8)\n",
            "Requirement already satisfied: oauthlib>=3.0.0 in /usr/local/lib/python3.9/dist-packages (from requests-oauthlib>=0.7.0->google-auth-oauthlib<0.5,>=0.4.1->tb-nightly~=2.13.0.a->tf-nightly) (3.2.2)\n",
            "Installing collected packages: wrapt, tf-estimator-nightly, tensorboard-data-server, protobuf, keras-nightly, tb-nightly, tf-nightly\n",
            "  Attempting uninstall: wrapt\n",
            "    Found existing installation: wrapt 1.15.0\n",
            "    Uninstalling wrapt-1.15.0:\n",
            "      Successfully uninstalled wrapt-1.15.0\n",
            "  Attempting uninstall: tensorboard-data-server\n",
            "    Found existing installation: tensorboard-data-server 0.6.1\n",
            "    Uninstalling tensorboard-data-server-0.6.1:\n",
            "      Successfully uninstalled tensorboard-data-server-0.6.1\n",
            "  Attempting uninstall: protobuf\n",
            "    Found existing installation: protobuf 3.19.6\n",
            "    Uninstalling protobuf-3.19.6:\n",
            "      Successfully uninstalled protobuf-3.19.6\n",
            "\u001b[31mERROR: pip's dependency resolver does not currently take into account all the packages that are installed. This behaviour is the source of the following dependency conflicts.\n",
            "tensorflow 2.11.0 requires protobuf<3.20,>=3.9.2, but you have protobuf 4.22.1 which is incompatible.\n",
            "tensorflow-metadata 1.12.0 requires protobuf<4,>=3.13, but you have protobuf 4.22.1 which is incompatible.\n",
            "tensorboard 2.11.2 requires protobuf<4,>=3.9.2, but you have protobuf 4.22.1 which is incompatible.\n",
            "tensorboard 2.11.2 requires tensorboard-data-server<0.7.0,>=0.6.0, but you have tensorboard-data-server 0.7.0 which is incompatible.\u001b[0m\u001b[31m\n",
            "\u001b[0mSuccessfully installed keras-nightly-2.13.0.dev2023031507 protobuf-4.22.1 tb-nightly-2.13.0a20230314 tensorboard-data-server-0.7.0 tf-estimator-nightly-2.13.0.dev2023031508 tf-nightly-2.13.0.dev20230315 wrapt-1.14.1\n"
          ]
        }
      ]
    },
    {
      "cell_type": "code",
      "source": [
        "import tensorflow as tf\n",
        "\n",
        "# Load a pre-trained model\n",
        "base_model = tf.keras.applications.InceptionV3(weights='imagenet', include_top=False)\n",
        "\n",
        "# Define a feature extractor using the base model\n",
        "feature_extractor = tf.keras.Sequential([\n",
        "    base_model,\n",
        "    tf.keras.layers.GlobalAveragePooling2D()\n",
        "])\n"
      ],
      "metadata": {
        "colab": {
          "base_uri": "https://localhost:8080/"
        },
        "id": "CPOC938T9gcN",
        "outputId": "6deec72f-eafc-4953-9f60-bb8d67ccdd3d"
      },
      "execution_count": null,
      "outputs": [
        {
          "output_type": "stream",
          "name": "stdout",
          "text": [
            "Downloading data from https://storage.googleapis.com/tensorflow/keras-applications/inception_v3/inception_v3_weights_tf_dim_ordering_tf_kernels_notop.h5\n",
            "87910968/87910968 [==============================] - 1s 0us/step\n"
          ]
        }
      ]
    },
    {
      "cell_type": "code",
      "source": [
        "do_fine_tuning = True #@param {type:\"boolean\"}\n",
        "if do_fine_tuning:\n",
        "  feature_extractor.trainable = True\n",
        "  # unfreeze some layers of base network for fine-tuning\n",
        "  for layer in base_model.layers[-30:]:\n",
        "    layer.trainable =True\n",
        "  \n",
        "else:\n",
        "  feature_extractor.trainable = False\n",
        "\n",
        "\n"
      ],
      "metadata": {
        "id": "_MmM-CDi9Kaw"
      },
      "execution_count": null,
      "outputs": []
    },
    {
      "cell_type": "code",
      "source": [
        "\n",
        "print(\"Building model with\", MODULE_HANDLE)\n",
        "model = tf.keras.Sequential([\n",
        "    feature_extractor,\n",
        "    tf.keras.layers.Flatten(),\n",
        "    tf.keras.layers.Dense(512, activation='relu'),\n",
        "    tf.keras.layers.Dropout(rate=0.2),\n",
        "    tf.keras.layers.Dense(train_generator.num_classes, activation='softmax',\n",
        "                           kernel_regularizer=tf.keras.regularizers.l2(0.0001))\n",
        "])\n",
        "#model.build((None,)+IMAGE_SIZE+(3,))\n",
        "\n",
        "model.summary()"
      ],
      "metadata": {
        "colab": {
          "base_uri": "https://localhost:8080/"
        },
        "id": "ggnQxBlQ9MDS",
        "outputId": "0c46169d-fa1a-4078-d279-e43b4e6cd6c1"
      },
      "execution_count": null,
      "outputs": [
        {
          "output_type": "stream",
          "name": "stdout",
          "text": [
            "Building model with https://tfhub.dev/google/tf2-preview/inception_v3/feature_vector/2\n",
            "Model: \"sequential_1\"\n",
            "_________________________________________________________________\n",
            " Layer (type)                Output Shape              Param #   \n",
            "=================================================================\n",
            " sequential (Sequential)     (None, 2048)              21802784  \n",
            "                                                                 \n",
            " flatten (Flatten)           (None, 2048)              0         \n",
            "                                                                 \n",
            " dense (Dense)               (None, 512)               1049088   \n",
            "                                                                 \n",
            " dropout (Dropout)           (None, 512)               0         \n",
            "                                                                 \n",
            " dense_1 (Dense)             (None, 3)                 1539      \n",
            "                                                                 \n",
            "=================================================================\n",
            "Total params: 22,853,411\n",
            "Trainable params: 22,818,979\n",
            "Non-trainable params: 34,432\n",
            "_________________________________________________________________\n"
          ]
        }
      ]
    },
    {
      "cell_type": "code",
      "source": [
        "\n",
        "#Compile model specifying the optimizer learning rate\n",
        "\n",
        "LEARNING_RATE = 0.001 #@param {type:\"number\"}\n",
        "\n",
        "model.compile(\n",
        "   optimizer=tf.keras.optimizers.Adam(lr=LEARNING_RATE), \n",
        "   loss='categorical_crossentropy',\n",
        "   metrics=['accuracy'])\n"
      ],
      "metadata": {
        "colab": {
          "base_uri": "https://localhost:8080/"
        },
        "id": "mPHG6wcb9pBG",
        "outputId": "41bc0378-c91d-42e3-edc2-59e4b8701b2a"
      },
      "execution_count": null,
      "outputs": [
        {
          "output_type": "stream",
          "name": "stderr",
          "text": [
            "WARNING:absl:`lr` is deprecated, please use `learning_rate` instead, or use the legacy optimizer, e.g.,tf.keras.optimizers.legacy.Adam.\n"
          ]
        }
      ]
    },
    {
      "cell_type": "code",
      "source": [
        "\n",
        "EPOCHS=30 #@param {type:\"integer\"}\n",
        "\n",
        "history = model.fit_generator(\n",
        "        train_generator,\n",
        "        steps_per_epoch=train_generator.samples//train_generator.batch_size,\n",
        "        epochs=EPOCHS,\n",
        "        validation_data=validation_generator,\n",
        "        validation_steps=validation_generator.samples//validation_generator.batch_size)"
      ],
      "metadata": {
        "colab": {
          "base_uri": "https://localhost:8080/"
        },
        "id": "TTL0X9_396RC",
        "outputId": "a1675e5b-6e66-40da-aaba-a4ff7b108938"
      },
      "execution_count": null,
      "outputs": [
        {
          "output_type": "stream",
          "name": "stderr",
          "text": [
            "<ipython-input-38-49a96cf4708e>:3: UserWarning: `Model.fit_generator` is deprecated and will be removed in a future version. Please use `Model.fit`, which supports generators.\n",
            "  history = model.fit_generator(\n"
          ]
        },
        {
          "output_type": "stream",
          "name": "stdout",
          "text": [
            "Epoch 1/30\n"
          ]
        },
        {
          "output_type": "stream",
          "name": "stderr",
          "text": [
            "WARNING:tensorflow:AutoGraph could not transform <function Model.make_train_function.<locals>.train_function at 0x7f54a81b5940> and will run it as-is.\n",
            "Please report this to the TensorFlow team. When filing the bug, set the verbosity to 10 (on Linux, `export AUTOGRAPH_VERBOSITY=10`) and attach the full output.\n",
            "Cause: closure mismatch, requested ('self', 'step_function'), but source function had ()\n",
            "To silence this warning, decorate the function with @tf.autograph.experimental.do_not_convert\n"
          ]
        },
        {
          "output_type": "stream",
          "name": "stdout",
          "text": [
            "WARNING: AutoGraph could not transform <function Model.make_train_function.<locals>.train_function at 0x7f54a81b5940> and will run it as-is.\n",
            "Please report this to the TensorFlow team. When filing the bug, set the verbosity to 10 (on Linux, `export AUTOGRAPH_VERBOSITY=10`) and attach the full output.\n",
            "Cause: closure mismatch, requested ('self', 'step_function'), but source function had ()\n",
            "To silence this warning, decorate the function with @tf.autograph.experimental.do_not_convert\n",
            "2/2 [==============================] - ETA: 0s - loss: 2.5553 - accuracy: 0.4409  "
          ]
        },
        {
          "output_type": "stream",
          "name": "stderr",
          "text": [
            "WARNING:tensorflow:AutoGraph could not transform <function Model.make_test_function.<locals>.test_function at 0x7f550c830dc0> and will run it as-is.\n",
            "Please report this to the TensorFlow team. When filing the bug, set the verbosity to 10 (on Linux, `export AUTOGRAPH_VERBOSITY=10`) and attach the full output.\n",
            "Cause: closure mismatch, requested ('self', 'step_function'), but source function had ()\n",
            "To silence this warning, decorate the function with @tf.autograph.experimental.do_not_convert\n"
          ]
        },
        {
          "output_type": "stream",
          "name": "stdout",
          "text": [
            "WARNING: AutoGraph could not transform <function Model.make_test_function.<locals>.test_function at 0x7f550c830dc0> and will run it as-is.\n",
            "Please report this to the TensorFlow team. When filing the bug, set the verbosity to 10 (on Linux, `export AUTOGRAPH_VERBOSITY=10`) and attach the full output.\n",
            "Cause: closure mismatch, requested ('self', 'step_function'), but source function had ()\n",
            "To silence this warning, decorate the function with @tf.autograph.experimental.do_not_convert\n",
            "2/2 [==============================] - 152s 90s/step - loss: 2.5553 - accuracy: 0.4409 - val_loss: 6.1559 - val_accuracy: 0.0938\n",
            "Epoch 2/30\n",
            "2/2 [==============================] - 120s 49s/step - loss: 0.6669 - accuracy: 0.7849 - val_loss: 7.7623 - val_accuracy: 0.0000e+00\n",
            "Epoch 3/30\n",
            "2/2 [==============================] - 162s 90s/step - loss: 0.2400 - accuracy: 0.9219 - val_loss: 16.7116 - val_accuracy: 0.0000e+00\n",
            "Epoch 4/30\n",
            "2/2 [==============================] - 119s 50s/step - loss: 0.1009 - accuracy: 0.9785 - val_loss: 19.9676 - val_accuracy: 0.0000e+00\n",
            "Epoch 5/30\n",
            "2/2 [==============================] - 120s 90s/step - loss: 0.0347 - accuracy: 1.0000 - val_loss: 29.2227 - val_accuracy: 0.0000e+00\n",
            "Epoch 6/30\n",
            "2/2 [==============================] - 119s 51s/step - loss: 0.0298 - accuracy: 0.9892 - val_loss: 48.8466 - val_accuracy: 0.0000e+00\n",
            "Epoch 7/30\n",
            "2/2 [==============================] - 126s 51s/step - loss: 0.0067 - accuracy: 1.0000 - val_loss: 75.4266 - val_accuracy: 0.0000e+00\n",
            "Epoch 8/30\n",
            "2/2 [==============================] - 117s 87s/step - loss: 0.0552 - accuracy: 0.9892 - val_loss: 102.8402 - val_accuracy: 0.0000e+00\n",
            "Epoch 9/30\n",
            "2/2 [==============================] - 159s 90s/step - loss: 0.0052 - accuracy: 1.0000 - val_loss: 131.0523 - val_accuracy: 0.0000e+00\n",
            "Epoch 10/30\n",
            "2/2 [==============================] - 119s 49s/step - loss: 0.0027 - accuracy: 1.0000 - val_loss: 154.7021 - val_accuracy: 0.0000e+00\n",
            "Epoch 11/30\n",
            "2/2 [==============================] - 158s 87s/step - loss: 0.0055 - accuracy: 1.0000 - val_loss: 163.8782 - val_accuracy: 0.0000e+00\n",
            "Epoch 12/30\n",
            "2/2 [==============================] - 114s 46s/step - loss: 0.0012 - accuracy: 1.0000 - val_loss: 159.5352 - val_accuracy: 0.0000e+00\n",
            "Epoch 13/30\n",
            "2/2 [==============================] - 154s 85s/step - loss: 0.0014 - accuracy: 1.0000 - val_loss: 151.1061 - val_accuracy: 0.0000e+00\n",
            "Epoch 14/30\n",
            "2/2 [==============================] - 114s 45s/step - loss: 0.1619 - accuracy: 0.9785 - val_loss: 190.6991 - val_accuracy: 0.0000e+00\n",
            "Epoch 15/30\n",
            "2/2 [==============================] - 164s 94s/step - loss: 0.0170 - accuracy: 0.9922 - val_loss: 225.7413 - val_accuracy: 0.0000e+00\n",
            "Epoch 16/30\n",
            "2/2 [==============================] - 155s 83s/step - loss: 0.0022 - accuracy: 1.0000 - val_loss: 250.6887 - val_accuracy: 0.0000e+00\n",
            "Epoch 17/30\n",
            "2/2 [==============================] - 121s 52s/step - loss: 0.0080 - accuracy: 1.0000 - val_loss: 268.1428 - val_accuracy: 0.0000e+00\n",
            "Epoch 18/30\n",
            "2/2 [==============================] - 120s 49s/step - loss: 0.0193 - accuracy: 0.9892 - val_loss: 250.6787 - val_accuracy: 0.0000e+00\n",
            "Epoch 19/30\n",
            "2/2 [==============================] - 125s 53s/step - loss: 0.0259 - accuracy: 0.9892 - val_loss: 214.9812 - val_accuracy: 0.0000e+00\n",
            "Epoch 20/30\n",
            "2/2 [==============================] - 170s 91s/step - loss: 0.0776 - accuracy: 0.9844 - val_loss: 237.9140 - val_accuracy: 0.0000e+00\n",
            "Epoch 21/30\n",
            "2/2 [==============================] - 161s 90s/step - loss: 0.0422 - accuracy: 0.9688 - val_loss: 271.7027 - val_accuracy: 0.0000e+00\n",
            "Epoch 22/30\n",
            "2/2 [==============================] - 117s 84s/step - loss: 0.0093 - accuracy: 1.0000 - val_loss: 289.8509 - val_accuracy: 0.0000e+00\n",
            "Epoch 23/30\n",
            "2/2 [==============================] - 122s 53s/step - loss: 0.0116 - accuracy: 1.0000 - val_loss: 201.5026 - val_accuracy: 0.0000e+00\n",
            "Epoch 24/30\n",
            "2/2 [==============================] - 125s 53s/step - loss: 0.0293 - accuracy: 0.9892 - val_loss: 122.5237 - val_accuracy: 0.0000e+00\n",
            "Epoch 25/30\n",
            "2/2 [==============================] - 160s 90s/step - loss: 0.0029 - accuracy: 1.0000 - val_loss: 80.2456 - val_accuracy: 0.0000e+00\n",
            "Epoch 26/30\n",
            "2/2 [==============================] - 121s 90s/step - loss: 0.0069 - accuracy: 1.0000 - val_loss: 63.2136 - val_accuracy: 0.0000e+00\n",
            "Epoch 27/30\n",
            "2/2 [==============================] - 123s 93s/step - loss: 0.0019 - accuracy: 1.0000 - val_loss: 51.0484 - val_accuracy: 0.0000e+00\n",
            "Epoch 28/30\n",
            "2/2 [==============================] - 165s 90s/step - loss: 0.0013 - accuracy: 1.0000 - val_loss: 41.6766 - val_accuracy: 0.0000e+00\n",
            "Epoch 29/30\n",
            "2/2 [==============================] - 122s 53s/step - loss: 0.0465 - accuracy: 0.9892 - val_loss: 15.4450 - val_accuracy: 0.0000e+00\n",
            "Epoch 30/30\n",
            "2/2 [==============================] - 116s 84s/step - loss: 0.0633 - accuracy: 0.9892 - val_loss: 9.0636 - val_accuracy: 0.0000e+00\n"
          ]
        }
      ]
    },
    {
      "cell_type": "code",
      "source": [
        "\n",
        "import matplotlib.pylab as plt\n",
        "import numpy as np\n",
        "\n",
        "acc = history.history['accuracy']\n",
        "val_acc = history.history['val_accuracy']\n",
        "\n",
        "loss = history.history['loss']\n",
        "val_loss = history.history['val_loss']\n",
        "\n",
        "epochs_range = range(EPOCHS)\n",
        "\n",
        "plt.figure(figsize=(8, 8))\n",
        "plt.subplot(1, 2, 1)\n",
        "plt.plot(epochs_range, acc, label='Training Accuracy')\n",
        "plt.plot(epochs_range, val_acc, label='Validation Accuracy')\n",
        "plt.legend(loc='lower right')\n",
        "plt.title('Training and Validation Accuracy')\n",
        "plt.ylabel(\"Accuracy (training and validation)\")\n",
        "plt.xlabel(\"Training Steps\")\n",
        "\n",
        "plt.subplot(1, 2, 2)\n",
        "plt.plot(epochs_range, loss, label='Training Loss')\n",
        "plt.plot(epochs_range, val_loss, label='Validation Loss')\n",
        "plt.legend(loc='upper right')\n",
        "plt.title('Training and Validation Loss')\n",
        "plt.ylabel(\"Loss (training and validation)\")\n",
        "plt.xlabel(\"Training Steps\")\n",
        "plt.show()"
      ],
      "metadata": {
        "colab": {
          "base_uri": "https://localhost:8080/",
          "height": 513
        },
        "id": "WJUONS48Rnbn",
        "outputId": "0900d15b-8669-4385-dd55-050e3a1d5769"
      },
      "execution_count": null,
      "outputs": [
        {
          "output_type": "display_data",
          "data": {
            "text/plain": [
              "<Figure size 576x576 with 2 Axes>"
            ],
            "image/png": "[encoded data removed]"
          },
          "metadata": {
            "needs_background": "light"
          }
        }
      ]
    },
    {
      "cell_type": "code",
      "source": [
        "# Import OpenCV\n",
        "import cv2\n",
        "\n",
        "# Utility\n",
        "import itertools\n",
        "import random\n",
        "from collections import Counter\n",
        "from glob import iglob\n",
        "\n",
        "\n",
        "def load_image(filename):\n",
        "    img = cv2.imread(os.path.join(data_dir, validation_dir, filename))\n",
        "    img = cv2.resize(img, (IMAGE_SIZE[0], IMAGE_SIZE[1]) )\n",
        "    img = img /255\n",
        "    \n",
        "    return img\n",
        "\n",
        "\n",
        "def predict(image):\n",
        "    probabilities = model.predict(np.asarray([img]))[0]\n",
        "    class_idx = np.argmax(probabilities)\n",
        "    \n",
        "    return {classes[class_idx]: probabilities[class_idx]}"
      ],
      "metadata": {
        "id": "9mxpjjBORqCy"
      },
      "execution_count": null,
      "outputs": []
    },
    {
      "cell_type": "code",
      "source": [
        "for idx, filename in enumerate(random.sample(validation_generator.filenames, 20)):\n",
        "    print(\"SOURCE: class: %s, file: %s\" % (os.path.split(filename)[0], filename))\n",
        "    \n",
        "    img = load_image(filename)\n",
        "    prediction = predict(img)\n",
        "    print(\"PREDICTED: class: %s, confidence: %f\" % (list(prediction.keys())[0], list(prediction.values())[0]))\n",
        "    plt.imshow(img)\n",
        "    plt.figure(idx)    \n",
        "    plt.show()"
      ],
      "metadata": {
        "colab": {
          "base_uri": "https://localhost:8080/",
          "height": 235
        },
        "id": "dMS_G4zKRth5",
        "outputId": "abf1ef36-777e-46b5-81ee-c0679dc9e627"
      },
      "execution_count": null,
      "outputs": [
        {
          "output_type": "error",
          "ename": "NameError",
          "evalue": "ignored",
          "traceback": [
            "\u001b[0;31m---------------------------------------------------------------------------\u001b[0m",
            "\u001b[0;31mNameError\u001b[0m                                 Traceback (most recent call last)",
            "\u001b[0;32m<ipython-input-1-2d44d7e5b4a0>\u001b[0m in \u001b[0;36m<module>\u001b[0;34m\u001b[0m\n\u001b[0;32m----> 1\u001b[0;31m \u001b[0;32mfor\u001b[0m \u001b[0midx\u001b[0m\u001b[0;34m,\u001b[0m \u001b[0mfilename\u001b[0m \u001b[0;32min\u001b[0m \u001b[0menumerate\u001b[0m\u001b[0;34m(\u001b[0m\u001b[0mrandom\u001b[0m\u001b[0;34m.\u001b[0m\u001b[0msample\u001b[0m\u001b[0;34m(\u001b[0m\u001b[0mvalidation_generator\u001b[0m\u001b[0;34m.\u001b[0m\u001b[0mfilenames\u001b[0m\u001b[0;34m,\u001b[0m \u001b[0;36m20\u001b[0m\u001b[0;34m)\u001b[0m\u001b[0;34m)\u001b[0m\u001b[0;34m:\u001b[0m\u001b[0;34m\u001b[0m\u001b[0;34m\u001b[0m\u001b[0m\n\u001b[0m\u001b[1;32m      2\u001b[0m     \u001b[0mprint\u001b[0m\u001b[0;34m(\u001b[0m\u001b[0;34m\"SOURCE: class: %s, file: %s\"\u001b[0m \u001b[0;34m%\u001b[0m \u001b[0;34m(\u001b[0m\u001b[0mos\u001b[0m\u001b[0;34m.\u001b[0m\u001b[0mpath\u001b[0m\u001b[0;34m.\u001b[0m\u001b[0msplit\u001b[0m\u001b[0;34m(\u001b[0m\u001b[0mfilename\u001b[0m\u001b[0;34m)\u001b[0m\u001b[0;34m[\u001b[0m\u001b[0;36m0\u001b[0m\u001b[0;34m]\u001b[0m\u001b[0;34m,\u001b[0m \u001b[0mfilename\u001b[0m\u001b[0;34m)\u001b[0m\u001b[0;34m)\u001b[0m\u001b[0;34m\u001b[0m\u001b[0;34m\u001b[0m\u001b[0m\n\u001b[1;32m      3\u001b[0m \u001b[0;34m\u001b[0m\u001b[0m\n\u001b[1;32m      4\u001b[0m     \u001b[0mimg\u001b[0m \u001b[0;34m=\u001b[0m \u001b[0mload_image\u001b[0m\u001b[0;34m(\u001b[0m\u001b[0mfilename\u001b[0m\u001b[0;34m)\u001b[0m\u001b[0;34m\u001b[0m\u001b[0;34m\u001b[0m\u001b[0m\n\u001b[1;32m      5\u001b[0m     \u001b[0mprediction\u001b[0m \u001b[0;34m=\u001b[0m \u001b[0mpredict\u001b[0m\u001b[0;34m(\u001b[0m\u001b[0mimg\u001b[0m\u001b[0;34m)\u001b[0m\u001b[0;34m\u001b[0m\u001b[0;34m\u001b[0m\u001b[0m\n",
            "\u001b[0;31mNameError\u001b[0m: name 'random' is not defined"
          ]
        }
      ]
    }
  ]
}